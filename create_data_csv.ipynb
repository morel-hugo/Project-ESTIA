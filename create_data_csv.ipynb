{
 "cells": [
  {
   "cell_type": "markdown",
   "metadata": {},
   "source": [
    "## Librairies"
   ]
  },
  {
   "cell_type": "code",
   "execution_count": 124,
   "metadata": {},
   "outputs": [],
   "source": [
    "import matplotlib\n",
    "%matplotlib inline\n",
    "\n",
    "import pandas as pd"
   ]
  },
  {
   "cell_type": "markdown",
   "metadata": {},
   "source": [
    "## Create DataFrame"
   ]
  },
  {
   "cell_type": "code",
   "execution_count": 125,
   "metadata": {},
   "outputs": [],
   "source": [
    "df_prix = pd.read_csv('datas/Prix_Petrole_Brut.csv')\n",
    "df_production = pd.read_csv('datas/Production_Petrole_Brut.csv')\n",
    "df_approvisionnement = pd.read_csv('datas/Approvisionnement_Energie_Primaire.csv')\n",
    "df_energie_renouvelable = pd.read_csv('datas/Energies_Renouvelables.csv')\n",
    "\n",
    "df = pd.DataFrame()"
   ]
  },
  {
   "cell_type": "markdown",
   "metadata": {},
   "source": [
    "## Join Approvisionnement and production"
   ]
  },
  {
   "cell_type": "code",
   "execution_count": 126,
   "metadata": {},
   "outputs": [],
   "source": [
    "df = df_approvisionnement.join(df_production,lsuffix='_approvisionnement', rsuffix='_production')"
   ]
  },
  {
   "cell_type": "markdown",
   "metadata": {},
   "source": [
    "##### - TIME"
   ]
  },
  {
   "cell_type": "code",
   "execution_count": 127,
   "metadata": {},
   "outputs": [],
   "source": [
    "df['TIME'] = df['TIME_approvisionnement'].combine_first(df['TIME_production'])\n",
    "del df['TIME_approvisionnement'],df['TIME_production']"
   ]
  },
  {
   "cell_type": "markdown",
   "metadata": {},
   "source": [
    "##### - LOCATION"
   ]
  },
  {
   "cell_type": "code",
   "execution_count": 128,
   "metadata": {},
   "outputs": [],
   "source": [
    "df['LOCATION'] = df['LOCATION_approvisionnement'].combine_first(df['LOCATION_production'])\n",
    "del df['LOCATION_approvisionnement'],df['LOCATION_production']"
   ]
  },
  {
   "cell_type": "markdown",
   "metadata": {},
   "source": [
    "##### - FREQUENCY"
   ]
  },
  {
   "cell_type": "code",
   "execution_count": 129,
   "metadata": {},
   "outputs": [],
   "source": [
    "df['FREQUENCY'] = df['FREQUENCY_approvisionnement'].combine_first(df['FREQUENCY_production'])\n",
    "del df['FREQUENCY_approvisionnement'],df['FREQUENCY_production']"
   ]
  },
  {
   "cell_type": "markdown",
   "metadata": {},
   "source": [
    "## Join Prix Petrole Brut"
   ]
  },
  {
   "cell_type": "code",
   "execution_count": 130,
   "metadata": {},
   "outputs": [],
   "source": [
    "df = pd.merge(df, df_prix[['LOCATION', 'Value','TIME']], on=['LOCATION','TIME'],how='left')"
   ]
  },
  {
   "cell_type": "code",
   "execution_count": 131,
   "metadata": {},
   "outputs": [],
   "source": [
    "df = df.rename(columns = {\"Value\":\"Value_prix\"})"
   ]
  },
  {
   "cell_type": "markdown",
   "metadata": {},
   "source": [
    "## Join Energies Renouvelables"
   ]
  },
  {
   "cell_type": "code",
   "execution_count": 132,
   "metadata": {},
   "outputs": [],
   "source": [
    "df = pd.merge(df, df_energie_renouvelable[['LOCATION', 'Value','TIME']], on=['LOCATION','TIME'],how='left')"
   ]
  },
  {
   "cell_type": "code",
   "execution_count": 133,
   "metadata": {},
   "outputs": [],
   "source": [
    "df = df.rename(columns={\"Value\":\"Value_renouvelable\"})"
   ]
  },
  {
   "cell_type": "code",
   "execution_count": 134,
   "metadata": {},
   "outputs": [],
   "source": [
    "df = df.set_index('TIME')"
   ]
  },
  {
   "cell_type": "markdown",
   "metadata": {},
   "source": [
    "## Exports final file to csv"
   ]
  },
  {
   "cell_type": "code",
   "execution_count": 135,
   "metadata": {},
   "outputs": [
    {
     "data": {
      "text/html": [
       "<div>\n",
       "<style scoped>\n",
       "    .dataframe tbody tr th:only-of-type {\n",
       "        vertical-align: middle;\n",
       "    }\n",
       "\n",
       "    .dataframe tbody tr th {\n",
       "        vertical-align: top;\n",
       "    }\n",
       "\n",
       "    .dataframe thead th {\n",
       "        text-align: right;\n",
       "    }\n",
       "</style>\n",
       "<table border=\"1\" class=\"dataframe\">\n",
       "  <thead>\n",
       "    <tr style=\"text-align: right;\">\n",
       "      <th></th>\n",
       "      <th>INDICATOR_approvisionnement</th>\n",
       "      <th>SUBJECT_approvisionnement</th>\n",
       "      <th>MEASURE_approvisionnement</th>\n",
       "      <th>Value_approvisionnement</th>\n",
       "      <th>Flag Codes_approvisionnement</th>\n",
       "      <th>INDICATOR_production</th>\n",
       "      <th>SUBJECT_production</th>\n",
       "      <th>MEASURE_production</th>\n",
       "      <th>Value_production</th>\n",
       "      <th>Flag Codes_production</th>\n",
       "      <th>LOCATION</th>\n",
       "      <th>FREQUENCY</th>\n",
       "      <th>Value_prix</th>\n",
       "      <th>Value_renouvelable</th>\n",
       "    </tr>\n",
       "    <tr>\n",
       "      <th>TIME</th>\n",
       "      <th></th>\n",
       "      <th></th>\n",
       "      <th></th>\n",
       "      <th></th>\n",
       "      <th></th>\n",
       "      <th></th>\n",
       "      <th></th>\n",
       "      <th></th>\n",
       "      <th></th>\n",
       "      <th></th>\n",
       "      <th></th>\n",
       "      <th></th>\n",
       "      <th></th>\n",
       "      <th></th>\n",
       "    </tr>\n",
       "  </thead>\n",
       "  <tbody>\n",
       "    <tr>\n",
       "      <th>1980</th>\n",
       "      <td>PRYENRGSUPPLY</td>\n",
       "      <td>TOT</td>\n",
       "      <td>TOE_1000USD</td>\n",
       "      <td>0.191</td>\n",
       "      <td>NaN</td>\n",
       "      <td>OILPROD</td>\n",
       "      <td>TOT</td>\n",
       "      <td>KTOE</td>\n",
       "      <td>19471.877</td>\n",
       "      <td>NaN</td>\n",
       "      <td>AUS</td>\n",
       "      <td>A</td>\n",
       "      <td>31.81</td>\n",
       "      <td>4745.682</td>\n",
       "    </tr>\n",
       "    <tr>\n",
       "      <th>1981</th>\n",
       "      <td>PRYENRGSUPPLY</td>\n",
       "      <td>TOT</td>\n",
       "      <td>TOE_1000USD</td>\n",
       "      <td>0.186</td>\n",
       "      <td>NaN</td>\n",
       "      <td>OILPROD</td>\n",
       "      <td>TOT</td>\n",
       "      <td>KTOE</td>\n",
       "      <td>19007.475</td>\n",
       "      <td>NaN</td>\n",
       "      <td>AUS</td>\n",
       "      <td>A</td>\n",
       "      <td>35.88</td>\n",
       "      <td>5063.213</td>\n",
       "    </tr>\n",
       "    <tr>\n",
       "      <th>1982</th>\n",
       "      <td>PRYENRGSUPPLY</td>\n",
       "      <td>TOT</td>\n",
       "      <td>TOE_1000USD</td>\n",
       "      <td>0.198</td>\n",
       "      <td>NaN</td>\n",
       "      <td>OILPROD</td>\n",
       "      <td>TOT</td>\n",
       "      <td>KTOE</td>\n",
       "      <td>18706.129</td>\n",
       "      <td>NaN</td>\n",
       "      <td>AUS</td>\n",
       "      <td>A</td>\n",
       "      <td>35.42</td>\n",
       "      <td>5173.465</td>\n",
       "    </tr>\n",
       "    <tr>\n",
       "      <th>1983</th>\n",
       "      <td>PRYENRGSUPPLY</td>\n",
       "      <td>TOT</td>\n",
       "      <td>TOE_1000USD</td>\n",
       "      <td>0.182</td>\n",
       "      <td>NaN</td>\n",
       "      <td>OILPROD</td>\n",
       "      <td>TOT</td>\n",
       "      <td>KTOE</td>\n",
       "      <td>18220.054</td>\n",
       "      <td>NaN</td>\n",
       "      <td>AUS</td>\n",
       "      <td>A</td>\n",
       "      <td>30.88</td>\n",
       "      <td>5006.549</td>\n",
       "    </tr>\n",
       "    <tr>\n",
       "      <th>1984</th>\n",
       "      <td>PRYENRGSUPPLY</td>\n",
       "      <td>TOT</td>\n",
       "      <td>TOE_1000USD</td>\n",
       "      <td>0.178</td>\n",
       "      <td>NaN</td>\n",
       "      <td>OILPROD</td>\n",
       "      <td>TOT</td>\n",
       "      <td>KTOE</td>\n",
       "      <td>22148.899</td>\n",
       "      <td>NaN</td>\n",
       "      <td>AUS</td>\n",
       "      <td>A</td>\n",
       "      <td>29.19</td>\n",
       "      <td>4912.525</td>\n",
       "    </tr>\n",
       "  </tbody>\n",
       "</table>\n",
       "</div>"
      ],
      "text/plain": [
       "     INDICATOR_approvisionnement SUBJECT_approvisionnement  \\\n",
       "TIME                                                         \n",
       "1980               PRYENRGSUPPLY                       TOT   \n",
       "1981               PRYENRGSUPPLY                       TOT   \n",
       "1982               PRYENRGSUPPLY                       TOT   \n",
       "1983               PRYENRGSUPPLY                       TOT   \n",
       "1984               PRYENRGSUPPLY                       TOT   \n",
       "\n",
       "     MEASURE_approvisionnement  Value_approvisionnement  \\\n",
       "TIME                                                      \n",
       "1980               TOE_1000USD                    0.191   \n",
       "1981               TOE_1000USD                    0.186   \n",
       "1982               TOE_1000USD                    0.198   \n",
       "1983               TOE_1000USD                    0.182   \n",
       "1984               TOE_1000USD                    0.178   \n",
       "\n",
       "     Flag Codes_approvisionnement INDICATOR_production SUBJECT_production  \\\n",
       "TIME                                                                        \n",
       "1980                          NaN              OILPROD                TOT   \n",
       "1981                          NaN              OILPROD                TOT   \n",
       "1982                          NaN              OILPROD                TOT   \n",
       "1983                          NaN              OILPROD                TOT   \n",
       "1984                          NaN              OILPROD                TOT   \n",
       "\n",
       "     MEASURE_production  Value_production Flag Codes_production LOCATION  \\\n",
       "TIME                                                                       \n",
       "1980               KTOE         19471.877                   NaN      AUS   \n",
       "1981               KTOE         19007.475                   NaN      AUS   \n",
       "1982               KTOE         18706.129                   NaN      AUS   \n",
       "1983               KTOE         18220.054                   NaN      AUS   \n",
       "1984               KTOE         22148.899                   NaN      AUS   \n",
       "\n",
       "     FREQUENCY  Value_prix  Value_renouvelable  \n",
       "TIME                                            \n",
       "1980         A       31.81            4745.682  \n",
       "1981         A       35.88            5063.213  \n",
       "1982         A       35.42            5173.465  \n",
       "1983         A       30.88            5006.549  \n",
       "1984         A       29.19            4912.525  "
      ]
     },
     "execution_count": 135,
     "metadata": {},
     "output_type": "execute_result"
    }
   ],
   "source": [
    "df.head()"
   ]
  },
  {
   "cell_type": "code",
   "execution_count": 136,
   "metadata": {},
   "outputs": [],
   "source": [
    "df.to_csv('datas/df_final.csv')"
   ]
  },
  {
   "cell_type": "markdown",
   "metadata": {},
   "source": [
    "## additional tools"
   ]
  },
  {
   "cell_type": "raw",
   "metadata": {},
   "source": [
    "i = 0\n",
    "compteur_production = 0\n",
    "for i in range(len(df_production['LOCATION'])-1):\n",
    "    if df_production['LOCATION'][i] != df_production['LOCATION'][i+1]:\n",
    "        compteur_production += 1\n",
    "print(\"nb LOCATION_production :\",compteur_production)"
   ]
  }
 ],
 "metadata": {
  "kernelspec": {
   "display_name": "Python 3",
   "language": "python",
   "name": "python3"
  },
  "language_info": {
   "codemirror_mode": {
    "name": "ipython",
    "version": 3
   },
   "file_extension": ".py",
   "mimetype": "text/x-python",
   "name": "python",
   "nbconvert_exporter": "python",
   "pygments_lexer": "ipython3",
   "version": "3.7.3"
  }
 },
 "nbformat": 4,
 "nbformat_minor": 2
}
